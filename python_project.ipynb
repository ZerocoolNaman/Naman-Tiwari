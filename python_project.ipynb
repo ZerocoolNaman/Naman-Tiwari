{
  "nbformat": 4,
  "nbformat_minor": 0,
  "metadata": {
    "colab": {
      "name": "python project.ipynb",
      "provenance": [],
      "private_outputs": true
    },
    "kernelspec": {
      "name": "python3",
      "display_name": "Python 3"
    }
  },
  "cells": [
    {
      "cell_type": "code",
      "metadata": {
        "id": "CQWe702fWzlB",
        "colab_type": "code",
        "colab": {}
      },
      "source": [
        "!pip install schedule\n",
        "import schedule\n",
        "import time\n",
        "\n",
        "def do_nothing():\n",
        "    print(\"naman\")\n",
        "\n",
        "schedule.every(5).seconds.do(do_nothing)\n",
        "\n",
        "while 1:\n",
        "    schedule.run_pending()\n",
        "    time.sleep(1)"
      ],
      "execution_count": 0,
      "outputs": []
    },
    {
      "cell_type": "code",
      "metadata": {
        "id": "c5aQLA4LXDmV",
        "colab_type": "code",
        "colab": {}
      },
      "source": [
        "!pip install schedule\n",
        "import schedule\n",
        "import time\n",
        "import requests\n",
        "import json\n",
        "from datetime import datetime\n",
        "def do_nothing():\n",
        "  print(\"naman\")\n",
        "  l=[7489443395]\n",
        "  #in l is we have to implement phone numbers \n",
        "  bd=[\"02-11\"]\n",
        "  #bd list for reminder dates \n",
        "  messg=[\"its naman's birthday wish him \"]\n",
        "  #reminder meaagaes associated with user follow indexing\n",
        "  pt=datetime.now()\n",
        "  pz=pt.strftime(\"%d-%m\")\n",
        "  for i in bd:\n",
        "    if i==pz:\n",
        "      for j in l:\n",
        "          for k in messg:\n",
        "            URL = 'https://www.way2sms.com/api/v1/sendCampaign'\n",
        "\n",
        "            # get request\n",
        "            def sendPostRequest(reqUrl, apiKey, secretKey, useType, phoneNo, senderId, textMessage):\n",
        "                req_params = {\n",
        "                'apikey':apiKey,\n",
        "                'secret':secretKey,\n",
        "                'usetype':useType,\n",
        "                'phone': phoneNo,\n",
        "                'message':textMessage,\n",
        "                'senderid':senderId\n",
        "                }\n",
        "                return requests.post(reqUrl, req_params)\n",
        "\n",
        "             # get response\n",
        "            response = sendPostRequest(URL, 'K2QESXOPQFWN7GOOSPLWA7DDWM50JMDC', 'ZFETGY7ENUFKV0M8', 'stage', j, '7498690558', k )\n",
        "schedule.every(5).seconds.do(do_nothing)\n",
        "\n",
        "while 1:\n",
        "     schedule.run_pending()\n",
        "     time.sleep(1)            "
      ],
      "execution_count": 0,
      "outputs": []
    },
    {
      "cell_type": "code",
      "metadata": {
        "id": "VwH_bWALLgGU",
        "colab_type": "code",
        "colab": {}
      },
      "source": [
        "import schedule\n",
        "import time\n",
        "import requests\n",
        "import json\n",
        "def do_nothing():\n",
        "    print(\"naman\")\n",
        "    URL = 'https://www.way2sms.com/api/v1/sendCampaign'\n",
        "\n",
        "    # get request\n",
        "    def sendPostRequest(reqUrl, apiKey, secretKey, useType, phoneNo, senderId, textMessage):\n",
        "      req_params = {\n",
        "      'apikey':apiKey,\n",
        "      'secret':secretKey,\n",
        "      'usetype':useType,\n",
        "      'phone': phoneNo,\n",
        "      'message':textMessage,\n",
        "      'senderid':senderId\n",
        "      }\n",
        "      return requests.post(reqUrl, req_params)\n",
        "\n",
        "    # get response\n",
        "    response = sendPostRequest(URL, 'K2QESXOPQFWN7GOOSPLWA7DDWM50JMDC', 'ZFETGY7ENUFKV0M8', 'stage', 7489443395, '7498690558', \"Happy Bithday Venkatesh\" )\n",
        "schedule.every(5).seconds.do(do_nothing)\n",
        "\n",
        "while 1:\n",
        "     schedule.run_pending()\n",
        "     time.sleep(1)"
      ],
      "execution_count": 0,
      "outputs": []
    },
    {
      "cell_type": "code",
      "metadata": {
        "id": "7BK82hFlYUfk",
        "colab_type": "code",
        "colab": {}
      },
      "source": [
        "from datetime import date\n",
        "import calendar\n",
        "my_date = date.today()\n",
        "dayname=calendar.day_name[my_date.weekday()]\n",
        "print(\"Today is \", dayname)\n",
        "time=datetime.now()\n",
        "print(\"time is \",time)\n",
        "prof={'Anurag Sir':1,'Rohan Sir':2,'Mayank Sir':3,'Suyel Sir':4,'Rahul Sir':5,'Tyagarajan Sir':6,\"Sarika Ma'am\":7,\"Urvashi Ma'am\":8,'Amit Sir':9,'Arjun Sir':10,\"Nidhi Ma'am\":11,'Swarup Sir':12}\n",
        "if prof=='Anurag Sir':\n",
        "    if (dayname=='Monday'and time=='8:35') or (dayname=='Friday'and time=='10:45'):\n",
        "        print(\"Sir,you are bit late to the class\")\n",
        "elif prof=='Rohan Sir':\n",
        "    if dayname=='Tuesday'and time=='8:35':\n",
        "        print(\"Sir,you are bit late to the class\")\n",
        "elif prof=='Mayank Sir':\n",
        "    if dayname=='Tuesday'and time=='10:45':\n",
        "        print(\"Sir,you are bit late to the class\")\n",
        "elif prof=='Rahul Sir':\n",
        "    if (dayname=='Monday'and time=='9:35')or (dayname=='Wednesday'and time=='10:45')or (dayname=='Friday'and time=='11:45'):\n",
        "        print(\"Sir,you are bit late to the class\")\n",
        "elif prof==\"Sarika Ma'am\":\n",
        "    if (dayname=='Monday'and time=='10:45')or(dayname=='Wednesday'and time=='11:45')or(dayname=='Thursday' and time=='8:35'):\n",
        "        print(\"Ma'am,you are bit late to the class\")\n",
        "elif prof==\"Urvashi Ma'am\":\n",
        "    if dayname=='Tuesday'and time=='14:35':\n",
        "        print(\"Ma'am,you are bit late to the class\")\n",
        "elif prof=='Tyagarajan Sir':\n",
        "    if (dayname=='Monday'and time=='11:45')or(dayname=='Thursday'and time=='9:35'):\n",
        "        print(\"Sir,you are bit late to the class\")\n",
        "elif prof=='Amit Sir':\n",
        "    if dayname=='Monday'and time=='15:45':\n",
        "        print(\"Sir,you are bit late to the class\")\n",
        "elif prof=='Arjun Sir':\n",
        "    if dayname=='Thursday'and time=='10:45':\n",
        "        print(\"Sir,you are bit late to the class\")\n",
        "elif prof=='Suyel Sir':\n",
        "    if dayname=='Tuesday'and time=='15:45':\n",
        "        print(\"Sir,you are bit late to the class\")\n",
        "elif prof==\"Nidhi Ma'am\":\n",
        "    if (dayname=='Tuesday'and time=='16:45')or(dayname=='Wednesday'and time=='13:35')or(dayname=='Friday'and time=='14:35'):\n",
        "        print(\"Ma'am,you are bit late to the class\")\n",
        "elif prof=='Swarup Sir':\n",
        "    if dayname=='Wednesday'and time=='15:45':\n",
        "        print(\"Sir,you are bit late to the class\")"
      ],
      "execution_count": 0,
      "outputs": []
    },
    {
      "cell_type": "code",
      "metadata": {
        "id": "oNy53GhSRouZ",
        "colab_type": "code",
        "colab": {}
      },
      "source": [
        ""
      ],
      "execution_count": 0,
      "outputs": []
    }
  ]
}